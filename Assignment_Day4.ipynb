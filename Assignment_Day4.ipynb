{
  "nbformat": 4,
  "nbformat_minor": 0,
  "metadata": {
    "colab": {
      "name": "Assignment_Day4.ipynb",
      "provenance": [],
      "authorship_tag": "ABX9TyMg51DBSohJG7df091Wlza8",
      "include_colab_link": true
    },
    "kernelspec": {
      "name": "python3",
      "display_name": "Python 3"
    }
  },
  "cells": [
    {
      "cell_type": "markdown",
      "metadata": {
        "id": "view-in-github",
        "colab_type": "text"
      },
      "source": [
        "<a href=\"https://colab.research.google.com/github/Hanna025/Oyesters_Assignments/blob/master/Assignment_Day4.ipynb\" target=\"_parent\"><img src=\"https://colab.research.google.com/assets/colab-badge.svg\" alt=\"Open In Colab\"/></a>"
      ]
    },
    {
      "cell_type": "markdown",
      "metadata": {
        "id": "d9icEbzgMwAu",
        "colab_type": "text"
      },
      "source": [
        "Write a Program in Python from scratch without using Sklearn Library for implementing Linear Regression using the same data delivered in Webinar [ Least Square Method]"
      ]
    },
    {
      "cell_type": "markdown",
      "metadata": {
        "id": "rxkfiJOINPvr",
        "colab_type": "text"
      },
      "source": [
        "1. Take a variable named x and y and assign the values 1,2,3,4,5,6 to x and 10,12,14,16,18,20 to y using numpy arrays. Draw a scatter plot beween x and y"
      ]
    },
    {
      "cell_type": "code",
      "metadata": {
        "id": "jmMav9FJNVKd",
        "colab_type": "code",
        "colab": {
          "base_uri": "https://localhost:8080/",
          "height": 319
        },
        "outputId": "7369ff13-69c6-44f7-8f3a-ac7374f5fc3d"
      },
      "source": [
        "import numpy as np\n",
        "import matplotlib.pyplot as plt\n",
        "\n",
        "x = np.arange(1,7,1)\n",
        "y = np.arange(10,21,2)\n",
        "print(x)\n",
        "print(y)\n",
        "plt.scatter(x,y)"
      ],
      "execution_count": 9,
      "outputs": [
        {
          "output_type": "stream",
          "text": [
            "[1 2 3 4 5 6]\n",
            "[10 12 14 16 18 20]\n"
          ],
          "name": "stdout"
        },
        {
          "output_type": "execute_result",
          "data": {
            "text/plain": [
              "<matplotlib.collections.PathCollection at 0x7f60987f12b0>"
            ]
          },
          "metadata": {
            "tags": []
          },
          "execution_count": 9
        },
        {
          "output_type": "display_data",
          "data": {
            "image/png": "[encoded data removed]",
            "text/plain": [
              "<Figure size 432x288 with 1 Axes>"
            ]
          },
          "metadata": {
            "tags": [],
            "needs_background": "light"
          }
        }
      ]
    },
    {
      "cell_type": "markdown",
      "metadata": {
        "id": "osEras4UNoBl",
        "colab_type": "text"
      },
      "source": [
        "2. Calculate the mean values of x and y & store it in mean_x and mean_y respectively\n"
      ]
    },
    {
      "cell_type": "code",
      "metadata": {
        "id": "rNKS0gSXOtSd",
        "colab_type": "code",
        "colab": {
          "base_uri": "https://localhost:8080/",
          "height": 54
        },
        "outputId": "a34c7845-e2b9-49b3-e375-6bebd0d2e7a3"
      },
      "source": [
        "mean_x = np.mean(x)\n",
        "print(mean_x)\n",
        "mean_y = np.mean(y)\n",
        "print(mean_y)"
      ],
      "execution_count": 12,
      "outputs": [
        {
          "output_type": "stream",
          "text": [
            "3.5\n",
            "15.0\n"
          ],
          "name": "stdout"
        }
      ]
    },
    {
      "cell_type": "markdown",
      "metadata": {
        "id": "a9whn-nuOPkL",
        "colab_type": "text"
      },
      "source": [
        "3. Print the values of Column 3 and 4 which is the difference amount of x with x_mean & y with y_mean\n",
        "Hint: Use for loop for printing all values of 3rd and 4th Column"
      ]
    },
    {
      "cell_type": "code",
      "metadata": {
        "id": "FKzF6pXoPxBw",
        "colab_type": "code",
        "colab": {
          "base_uri": "https://localhost:8080/",
          "height": 54
        },
        "outputId": "483ce906-7d6b-46b4-98bf-e7e5af3b7777"
      },
      "source": [
        "x = [1,2,3,4,5,6]\n",
        "for i in range(len(x)):\n",
        "  x[i] = x[i] - 3.5\n",
        "print(x)\n",
        "y = [10,12,14,16,18,20]\n",
        "for j in range(len(y)):\n",
        "  y[j] = y[j] - 15.0\n",
        "print(y)\n"
      ],
      "execution_count": 17,
      "outputs": [
        {
          "output_type": "stream",
          "text": [
            "[-2.5, -1.5, -0.5, 0.5, 1.5, 2.5]\n",
            "[-5.0, -3.0, -1.0, 1.0, 3.0, 5.0]\n"
          ],
          "name": "stdout"
        }
      ]
    },
    {
      "cell_type": "markdown",
      "metadata": {
        "id": "CH-Gw187RiWk",
        "colab_type": "text"
      },
      "source": [
        "4. Finding values of 5th and 6th Column\n",
        "1- Store the value of numerator in numer variable and denominator value in denom variable\n",
        "2- Also print the value of slope(m) and Y-intercept(c)\n",
        "Hint: Use the following equation\n",
        "image.png\n"
      ]
    },
    {
      "cell_type": "code",
      "metadata": {
        "id": "y26rcbPhTJTg",
        "colab_type": "code",
        "colab": {}
      },
      "source": [
        "for i in range(len())"
      ],
      "execution_count": 0,
      "outputs": []
    },
    {
      "cell_type": "code",
      "metadata": {
        "id": "7OttXrM2S4UG",
        "colab_type": "code",
        "colab": {}
      },
      "source": [
        ""
      ],
      "execution_count": 0,
      "outputs": []
    }
  ]
}