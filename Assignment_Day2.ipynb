{
  "nbformat": 4,
  "nbformat_minor": 0,
  "metadata": {
    "colab": {
      "name": "Assignment_Day2.ipynb",
      "provenance": [],
      "authorship_tag": "ABX9TyORWLbDX2Q7ZjlQaNNyHcf4",
      "include_colab_link": true
    },
    "kernelspec": {
      "name": "python3",
      "display_name": "Python 3"
    }
  },
  "cells": [
    {
      "cell_type": "markdown",
      "metadata": {
        "id": "view-in-github",
        "colab_type": "text"
      },
      "source": [
        "<a href=\"https://colab.research.google.com/github/Hanna025/Oyesters_Assignments/blob/master/Assignment_Day2.ipynb\" target=\"_parent\"><img src=\"https://colab.research.google.com/assets/colab-badge.svg\" alt=\"Open In Colab\"/></a>"
      ]
    },
    {
      "cell_type": "markdown",
      "metadata": {
        "id": "wPkZGBgPjM49",
        "colab_type": "text"
      },
      "source": [
        "1. Create an array having 10 values using randint method and store it in a variable r. Values ranging from 50 to 100. Sort it in descending order"
      ]
    },
    {
      "cell_type": "code",
      "metadata": {
        "id": "OsCYwSqXjdhy",
        "colab_type": "code",
        "colab": {
          "base_uri": "https://localhost:8080/",
          "height": 54
        },
        "outputId": "12d00a60-4e65-4adc-b7c9-cc136057f955"
      },
      "source": [
        "import numpy as np\n",
        "\n",
        "r = np.random.randint(50,100,10)\n",
        "print(np.sort(r))\n",
        "desc = np.sort(r)[::-1]\n",
        "print(desc)\n"
      ],
      "execution_count": 7,
      "outputs": [
        {
          "output_type": "stream",
          "text": [
            "[55 59 61 65 70 73 76 82 87 96]\n",
            "[96 87 82 76 73 70 65 61 59 55]\n"
          ],
          "name": "stdout"
        }
      ]
    },
    {
      "cell_type": "markdown",
      "metadata": {
        "id": "a3MlgtQYkKHC",
        "colab_type": "text"
      },
      "source": [
        "2. Append a number 7 inside r array"
      ]
    },
    {
      "cell_type": "code",
      "metadata": {
        "id": "cdI_LzDimkYs",
        "colab_type": "code",
        "colab": {
          "base_uri": "https://localhost:8080/",
          "height": 35
        },
        "outputId": "5f0b34d4-b2f3-4064-bdb6-98da03e4e809"
      },
      "source": [
        "np.append(np.sort(r),7)"
      ],
      "execution_count": 9,
      "outputs": [
        {
          "output_type": "execute_result",
          "data": {
            "text/plain": [
              "array([55, 59, 61, 65, 70, 73, 76, 82, 87, 96,  7])"
            ]
          },
          "metadata": {
            "tags": []
          },
          "execution_count": 9
        }
      ]
    },
    {
      "cell_type": "markdown",
      "metadata": {
        "id": "BrTqbfXOmywL",
        "colab_type": "text"
      },
      "source": [
        "3. Find the cubes and square roots of all values of r array and store in c and sq variable.\n"
      ]
    },
    {
      "cell_type": "code",
      "metadata": {
        "id": "oj3N_QGjnJqR",
        "colab_type": "code",
        "colab": {
          "base_uri": "https://localhost:8080/",
          "height": 54
        },
        "outputId": "affcd5a5-7a21-47e9-ce86-fefc49b24fb9"
      },
      "source": [
        "c = np.power(r,3)\n",
        "print(c)\n",
        "sq = np.power(r,2)\n",
        "print(sq)"
      ],
      "execution_count": 10,
      "outputs": [
        {
          "output_type": "stream",
          "text": [
            "[438976 166375 389017 274625 226981 343000 658503 551368 205379 884736]\n",
            "[5776 3025 5329 4225 3721 4900 7569 6724 3481 9216]\n"
          ],
          "name": "stdout"
        }
      ]
    },
    {
      "cell_type": "markdown",
      "metadata": {
        "id": "PFKqwuI_nbNq",
        "colab_type": "text"
      },
      "source": [
        "4. Print the following of r array\n",
        "The total sum;\n",
        "Maximum value;\n",
        "Minimum Value;\n",
        "Mean Value;\n",
        "Median Value;\n"
      ]
    },
    {
      "cell_type": "code",
      "metadata": {
        "id": "HmUwPMCGoMHe",
        "colab_type": "code",
        "colab": {
          "base_uri": "https://localhost:8080/",
          "height": 108
        },
        "outputId": "072c5352-345b-4eeb-fd70-5525df049ee8"
      },
      "source": [
        "print(np.sum(r))\n",
        "print(np.max(r))\n",
        "print(np.min(r))\n",
        "print(np.mean(r))\n",
        "print(np.median(r))"
      ],
      "execution_count": 11,
      "outputs": [
        {
          "output_type": "stream",
          "text": [
            "724\n",
            "96\n",
            "55\n",
            "72.4\n",
            "71.5\n"
          ],
          "name": "stdout"
        }
      ]
    },
    {
      "cell_type": "markdown",
      "metadata": {
        "id": "DULU9If-n5TX",
        "colab_type": "text"
      },
      "source": [
        "5.Normalize the r array and store it in varible n using Min Max\n",
        "Hint : Minmax normalization is a normalization strategy which linearly transforms minimum value in array is mapped to 0 and the maximum value in array is mapped to 1. Check Image for formula reference"
      ]
    },
    {
      "cell_type": "code",
      "metadata": {
        "id": "nwEoAPgLozu6",
        "colab_type": "code",
        "colab": {
          "base_uri": "https://localhost:8080/",
          "height": 54
        },
        "outputId": "447280ea-58ae-40f8-aac9-47e76182fc22"
      },
      "source": [
        "r = np.random.randint(50,100,10)\n",
        "n = (r - min(r))/(max(r) - min(r))\n",
        "print(normalised)"
      ],
      "execution_count": 14,
      "outputs": [
        {
          "output_type": "stream",
          "text": [
            "[0.51219512 0.         0.43902439 0.24390244 0.14634146 0.36585366\n",
            " 0.7804878  0.65853659 0.09756098 1.        ]\n"
          ],
          "name": "stdout"
        }
      ]
    },
    {
      "cell_type": "code",
      "metadata": {
        "id": "oyqc0QyGwNSj",
        "colab_type": "code",
        "colab": {}
      },
      "source": [
        ""
      ],
      "execution_count": 0,
      "outputs": []
    }
  ]
}