{
  "nbformat": 4,
  "nbformat_minor": 0,
  "metadata": {
    "colab": {
      "name": "Assignment_Day3.ipynb",
      "provenance": [],
      "authorship_tag": "ABX9TyM9vQ36nuR+Vz9ufau3nG2b",
      "include_colab_link": true
    },
    "kernelspec": {
      "name": "python3",
      "display_name": "Python 3"
    }
  },
  "cells": [
    {
      "cell_type": "markdown",
      "metadata": {
        "id": "view-in-github",
        "colab_type": "text"
      },
      "source": [
        "<a href=\"https://colab.research.google.com/github/Hanna025/Oyesters_Assignments/blob/master/Assignment_Day3.ipynb\" target=\"_parent\"><img src=\"https://colab.research.google.com/assets/colab-badge.svg\" alt=\"Open In Colab\"/></a>"
      ]
    },
    {
      "cell_type": "markdown",
      "metadata": {
        "id": "6Z7s-dua71Ld",
        "colab_type": "text"
      },
      "source": [
        "Write a Program to plot a graph for an analysis of a cricket match . Over a period of 20 overs starting from 2nd over to 20th over, the visualisation graph has to be created for Team1 as well as Team2"
      ]
    },
    {
      "cell_type": "markdown",
      "metadata": {
        "id": "r0wVsbQnGdS2",
        "colab_type": "text"
      },
      "source": [
        "1. Take a variable named overs and assign the value by creating a numpy array using arange function from value 2 to 21 keeping 3 as the step"
      ]
    },
    {
      "cell_type": "code",
      "metadata": {
        "id": "L4rdXZkWGiTH",
        "colab_type": "code",
        "colab": {
          "base_uri": "https://localhost:8080/",
          "height": 35
        },
        "outputId": "688d6c1a-277c-41ae-bf55-16235a4d5baa"
      },
      "source": [
        "import numpy as np\n",
        "overs = np.arange(2,21,3)\n",
        "overs\n"
      ],
      "execution_count": 3,
      "outputs": [
        {
          "output_type": "execute_result",
          "data": {
            "text/plain": [
              "array([ 2,  5,  8, 11, 14, 17, 20])"
            ]
          },
          "metadata": {
            "tags": []
          },
          "execution_count": 3
        }
      ]
    },
    {
      "cell_type": "markdown",
      "metadata": {
        "id": "x5krgSj5Gp28",
        "colab_type": "text"
      },
      "source": [
        "2.Create 2 random numpy arrays taking values from 0 to 150 and store it in 2 variables named team1 and team2 respectively.Sort the values of both team1 and team2 variables\n",
        "Hint: For the number of values in each array, please refer question 1 . The total number of batches taken for overs should be same as values taken for Variables team1 and team2\n",
        "\n"
      ]
    },
    {
      "cell_type": "code",
      "metadata": {
        "id": "GDUKHSwOG8us",
        "colab_type": "code",
        "colab": {
          "base_uri": "https://localhost:8080/",
          "height": 54
        },
        "outputId": "f9d14844-81bb-4554-cee7-0821ed9dbc84"
      },
      "source": [
        "team1 = np.random.randint(0,150,7)\n",
        "team1.sort()\n",
        "print(team1)\n",
        "\n",
        "team2 = np.random.randint(0,150,7)\n",
        "team2.sort()\n",
        "print(team2)"
      ],
      "execution_count": 4,
      "outputs": [
        {
          "output_type": "stream",
          "text": [
            "[ 16  26  30 106 123 124 125]\n",
            "[ 37  69  79 101 110 116 117]\n"
          ],
          "name": "stdout"
        }
      ]
    },
    {
      "cell_type": "markdown",
      "metadata": {
        "id": "mFY7yjT4HPaF",
        "colab_type": "text"
      },
      "source": [
        "3. Plot a Line Plot along with marker for both the teams taking overs on X axis and Score on Y axis.\n"
      ]
    },
    {
      "cell_type": "code",
      "metadata": {
        "id": "Vu_Mi0RaH8Wl",
        "colab_type": "code",
        "colab": {
          "base_uri": "https://localhost:8080/",
          "height": 283
        },
        "outputId": "15092876-597a-43f8-e0c4-0abc1d40d4cb"
      },
      "source": [
        "import matplotlib.pyplot as plt\n",
        "\n",
        "plt.plot(overs,team1,marker = \"*\")\n",
        "plt.plot(overs,team2,marker = \"x\")"
      ],
      "execution_count": 6,
      "outputs": [
        {
          "output_type": "execute_result",
          "data": {
            "text/plain": [
              "[<matplotlib.lines.Line2D at 0x7f7d3efc1908>]"
            ]
          },
          "metadata": {
            "tags": []
          },
          "execution_count": 6
        },
        {
          "output_type": "display_data",
          "data": {
            "image/png": "[encoded data removed]",
            "text/plain": [
              "<Figure size 432x288 with 1 Axes>"
            ]
          },
          "metadata": {
            "tags": [],
            "needs_background": "light"
          }
        }
      ]
    },
    {
      "cell_type": "markdown",
      "metadata": {
        "id": "Ia0TkSXGIWR7",
        "colab_type": "text"
      },
      "source": [
        "4. Label X - axis as Overs and Y- Axis as Score. Also, give the title of graph as Cricket Match Analysis. Give different colors for both the teams graphs\n"
      ]
    },
    {
      "cell_type": "code",
      "metadata": {
        "id": "ioHqhp5MJJXL",
        "colab_type": "code",
        "colab": {
          "base_uri": "https://localhost:8080/",
          "height": 313
        },
        "outputId": "8b04d9c9-2919-4f25-86c4-8487e36ebd4c"
      },
      "source": [
        "plt.plot(overs,team1,marker = \"*\",c = \"g\")\n",
        "plt.plot(overs,team2,marker = \"x\",c = \"r\")\n",
        "plt.xlabel(\"Overs\")\n",
        "plt.ylabel(\"Score\")\n",
        "plt.title(\"Cricket Match Analysis\")"
      ],
      "execution_count": 7,
      "outputs": [
        {
          "output_type": "execute_result",
          "data": {
            "text/plain": [
              "Text(0.5, 1.0, 'Cricket Match Analysis')"
            ]
          },
          "metadata": {
            "tags": []
          },
          "execution_count": 7
        },
        {
          "output_type": "display_data",
          "data": {
            "image/png": "[encoded data removed]",
            "text/plain": [
              "<Figure size 432x288 with 1 Axes>"
            ]
          },
          "metadata": {
            "tags": [],
            "needs_background": "light"
          }
        }
      ]
    },
    {
      "cell_type": "markdown",
      "metadata": {
        "id": "sRhwsXV_J59j",
        "colab_type": "text"
      },
      "source": [
        "5. Put a legend label for differentiating both the teams graph\n",
        "Hint: Please use an extra parameter called as labels in plot method and call for plt.legend() at the end.\n",
        "The box which is on top left side of the graph labeled as Team 1 and Team 2 with Red and Green colors is the legend of the graph"
      ]
    },
    {
      "cell_type": "code",
      "metadata": {
        "id": "JY16sYDhKD_o",
        "colab_type": "code",
        "colab": {
          "base_uri": "https://localhost:8080/",
          "height": 313
        },
        "outputId": "b4b38f22-ef30-44d0-8a18-d0f3489d3bd3"
      },
      "source": [
        "plt.plot(overs,team1,marker = \"*\",c = \"g\",label = \"Team 1\")\n",
        "plt.plot(overs,team2,marker = \"x\",c = \"r\",label =\"Team 2\")\n",
        "plt.title(\"Cricket Match Analysis\")\n",
        "plt.legend()\n",
        "plt.xlabel(\"Overs\")\n",
        "plt.ylabel(\"Score\")\n",
        "\n"
      ],
      "execution_count": 8,
      "outputs": [
        {
          "output_type": "execute_result",
          "data": {
            "text/plain": [
              "Text(0, 0.5, 'Score')"
            ]
          },
          "metadata": {
            "tags": []
          },
          "execution_count": 8
        },
        {
          "output_type": "display_data",
          "data": {
            "image/png": "[encoded data removed]",
            "text/plain": [
              "<Figure size 432x288 with 1 Axes>"
            ]
          },
          "metadata": {
            "tags": [],
            "needs_background": "light"
          }
        }
      ]
    },
    {
      "cell_type": "markdown",
      "metadata": {
        "id": "IM45XyylKwxA",
        "colab_type": "text"
      },
      "source": [
        "6. Pie Chart\n",
        "Create a list named mobile_count which contains 5 random values from range of 0 to 100. Use for loop and random library\n",
        "\n",
        "Use a variable named mobile _model as Apple,Samsung,Vivo,Nokia and Huawei\n",
        "\n",
        "Plot a Pie chart for mobile_count variable and consider mobile _model as a labels parameter"
      ]
    },
    {
      "cell_type": "code",
      "metadata": {
        "id": "SNrdLYJ8K7rW",
        "colab_type": "code",
        "colab": {
          "base_uri": "https://localhost:8080/",
          "height": 35
        },
        "outputId": "c8447817-ea97-4916-9d6f-3102c6f44a8c"
      },
      "source": [
        "import random\n",
        "mobile_count = []\n",
        "for i in range(5):\n",
        "  x = random.randint(0,100)\n",
        "  mobile_count.append(x)\n",
        "print(mobile_count)"
      ],
      "execution_count": 9,
      "outputs": [
        {
          "output_type": "stream",
          "text": [
            "[92, 21, 59, 90, 9]\n"
          ],
          "name": "stdout"
        }
      ]
    },
    {
      "cell_type": "code",
      "metadata": {
        "id": "4u2PHRNOLMwN",
        "colab_type": "code",
        "colab": {
          "base_uri": "https://localhost:8080/",
          "height": 248
        },
        "outputId": "d8a3bce8-de2b-4777-8f13-0029da7f5ea9"
      },
      "source": [
        "import matplotlib.pyplot as plt\n",
        "\n",
        "mobile_model = [\"Apple\",\"Samsung\",\"Vivo\",\"Nokia\",\"Huawei\"]\n",
        "plt.pie(mobile_count,labels = mobile_model)\n",
        "plt.show()"
      ],
      "execution_count": 10,
      "outputs": [
        {
          "output_type": "display_data",
          "data": {
            "image/png": "[encoded data removed]",
            "text/plain": [
              "<Figure size 432x288 with 1 Axes>"
            ]
          },
          "metadata": {
            "tags": []
          }
        }
      ]
    },
    {
      "cell_type": "code",
      "metadata": {
        "id": "3E8NJM-OMKsz",
        "colab_type": "code",
        "colab": {}
      },
      "source": [
        ""
      ],
      "execution_count": 0,
      "outputs": []
    }
  ]
}